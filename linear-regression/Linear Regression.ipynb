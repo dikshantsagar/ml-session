{
 "cells": [
  {
   "cell_type": "code",
   "execution_count": 1,
   "metadata": {},
   "outputs": [],
   "source": [
    "import numpy as np\n",
    "import pandas as pd\n",
    "from sklearn.linear_model import LinearRegression\n",
    "from sklearn.preprocessing import StandardScaler\n",
    "import matplotlib.pyplot as plt\n",
    "from time import sleep"
   ]
  },
  {
   "cell_type": "markdown",
   "metadata": {},
   "source": [
    "# Scenario\n",
    "\n",
    "Winter is here! GoT Season 8 kicked off today :D The cultural committee has decided to host weekly screenings of the episodes! However, as the season progresses, they are having trouble deciding on a room to house the audience as the numbers are uncertain because of the endems :'(\n",
    "\n",
    "The screenings typincally happen in the mornings and some people think that if a lot of people have a deadline on the same night, the turnout will be low.\n",
    "\n",
    "Given the turnout for the last 10 episodes and the number of people who had an exam or a deadline on the same day, can you help them decide what will be the turnout for the 11th episode?\n"
   ]
  },
  {
   "cell_type": "markdown",
   "metadata": {},
   "source": [
    "# Setting up a hypothesis\n",
    "\n",
    "To predict anything about the turnout, we need to have certain assumptions about turnout. And these assumptions depend a lot upon the data that we have at hand. \n",
    "\n",
    "## Properties of the data (in our case)\n",
    "\n",
    "- We have just one piece of information or \"feature\" (number of students with a deadline on the same day)\n",
    "- We want to predict the turnout, i.e., a quantity that will lie in the interval $[0, \\infty)$\n",
    "\n",
    "What we want to learn is a __relationship__ between the data that we have and turnout. The relationship would then map our feature to the target value!\n",
    "\n",
    "To arrive at this relationship, we need to start off with an assumption or __hypothesis__. \n",
    "\n",
    "How do we decide what this hypothesis will be? In order to do that, let us first see how our data looks like..."
   ]
  },
  {
   "cell_type": "markdown",
   "metadata": {},
   "source": [
    "# Data: Exploratory Analysis"
   ]
  },
  {
   "cell_type": "code",
   "execution_count": 2,
   "metadata": {},
   "outputs": [],
   "source": [
    "num_of_days = 14\n",
    "students_with_deadline = np.array( [600, 450, 700, 540, 400, 410, 300, 650, 150, 250, 350, 200, 500, 800], dtype=np.float64 )\n",
    "turnout = np.array([1400, 2000, 1100, 2000, 2500, 2200, 2900, 1400, 3950, 3000, 2850, 3500, 2000, 725], dtype=np.float64 )"
   ]
  },
  {
   "cell_type": "code",
   "execution_count": 3,
   "metadata": {},
   "outputs": [
    {
     "data": {
      "text/html": [
       "<div>\n",
       "<style scoped>\n",
       "    .dataframe tbody tr th:only-of-type {\n",
       "        vertical-align: middle;\n",
       "    }\n",
       "\n",
       "    .dataframe tbody tr th {\n",
       "        vertical-align: top;\n",
       "    }\n",
       "\n",
       "    .dataframe thead th {\n",
       "        text-align: right;\n",
       "    }\n",
       "</style>\n",
       "<table border=\"1\" class=\"dataframe\">\n",
       "  <thead>\n",
       "    <tr style=\"text-align: right;\">\n",
       "      <th></th>\n",
       "      <th>Students with Deadline on Day i</th>\n",
       "      <th>Turnout on Day i</th>\n",
       "    </tr>\n",
       "  </thead>\n",
       "  <tbody>\n",
       "    <tr>\n",
       "      <th>0</th>\n",
       "      <td>600.0</td>\n",
       "      <td>1400.0</td>\n",
       "    </tr>\n",
       "    <tr>\n",
       "      <th>1</th>\n",
       "      <td>450.0</td>\n",
       "      <td>2000.0</td>\n",
       "    </tr>\n",
       "    <tr>\n",
       "      <th>2</th>\n",
       "      <td>700.0</td>\n",
       "      <td>1100.0</td>\n",
       "    </tr>\n",
       "    <tr>\n",
       "      <th>3</th>\n",
       "      <td>540.0</td>\n",
       "      <td>2000.0</td>\n",
       "    </tr>\n",
       "    <tr>\n",
       "      <th>4</th>\n",
       "      <td>400.0</td>\n",
       "      <td>2500.0</td>\n",
       "    </tr>\n",
       "    <tr>\n",
       "      <th>5</th>\n",
       "      <td>410.0</td>\n",
       "      <td>2200.0</td>\n",
       "    </tr>\n",
       "    <tr>\n",
       "      <th>6</th>\n",
       "      <td>300.0</td>\n",
       "      <td>2900.0</td>\n",
       "    </tr>\n",
       "    <tr>\n",
       "      <th>7</th>\n",
       "      <td>650.0</td>\n",
       "      <td>1400.0</td>\n",
       "    </tr>\n",
       "    <tr>\n",
       "      <th>8</th>\n",
       "      <td>150.0</td>\n",
       "      <td>3950.0</td>\n",
       "    </tr>\n",
       "    <tr>\n",
       "      <th>9</th>\n",
       "      <td>250.0</td>\n",
       "      <td>3000.0</td>\n",
       "    </tr>\n",
       "    <tr>\n",
       "      <th>10</th>\n",
       "      <td>350.0</td>\n",
       "      <td>2850.0</td>\n",
       "    </tr>\n",
       "    <tr>\n",
       "      <th>11</th>\n",
       "      <td>200.0</td>\n",
       "      <td>3500.0</td>\n",
       "    </tr>\n",
       "    <tr>\n",
       "      <th>12</th>\n",
       "      <td>500.0</td>\n",
       "      <td>2000.0</td>\n",
       "    </tr>\n",
       "    <tr>\n",
       "      <th>13</th>\n",
       "      <td>800.0</td>\n",
       "      <td>725.0</td>\n",
       "    </tr>\n",
       "  </tbody>\n",
       "</table>\n",
       "</div>"
      ],
      "text/plain": [
       "    Students with Deadline on Day i  Turnout on Day i\n",
       "0                             600.0            1400.0\n",
       "1                             450.0            2000.0\n",
       "2                             700.0            1100.0\n",
       "3                             540.0            2000.0\n",
       "4                             400.0            2500.0\n",
       "5                             410.0            2200.0\n",
       "6                             300.0            2900.0\n",
       "7                             650.0            1400.0\n",
       "8                             150.0            3950.0\n",
       "9                             250.0            3000.0\n",
       "10                            350.0            2850.0\n",
       "11                            200.0            3500.0\n",
       "12                            500.0            2000.0\n",
       "13                            800.0             725.0"
      ]
     },
     "execution_count": 3,
     "metadata": {},
     "output_type": "execute_result"
    }
   ],
   "source": [
    "df = pd.DataFrame({\"Students with Deadline on Day i\": students_with_deadline, \"Turnout on Day i\": turnout})\n",
    "df"
   ]
  },
  {
   "cell_type": "code",
   "execution_count": 4,
   "metadata": {},
   "outputs": [
    {
     "data": {
      "image/png": "[encoded data removed]",
      "text/plain": [
       "<Figure size 432x288 with 1 Axes>"
      ]
     },
     "metadata": {
      "needs_background": "light"
     },
     "output_type": "display_data"
    }
   ],
   "source": [
    "df.plot.scatter(\"Students with Deadline on Day i\", \"Turnout on Day i\")\n",
    "plt.show()"
   ]
  },
  {
   "cell_type": "markdown",
   "metadata": {},
   "source": [
    "What sort of function do you think would work best here?\n",
    "\n",
    "TLDR we are going to try and find a linear function to pass through most, if not all of these points.\n",
    "\n",
    "### That's Linear Regression!\n",
    "\n",
    "We essentially want to try and exploit the __linear__ property of the data to see if we can find a suitable line that approximates the actual relationship between our data and the result\n",
    "\n",
    "# Setting up the machinery\n",
    "\n",
    "Let us say that our hypothesis is given by:\n",
    "\n",
    "$$f(x) = \\theta_0 + \\theta_1x$$\n",
    "\n",
    "Here, $x$ represents the number of students with a deadline. What we ideally want is that our $y$, the turnout is exactly equal to $f(x)$.\n",
    "\n",
    "We need some way to express the difference in our hypothesis and the target value.\n",
    "\n",
    "## Question: What could be a good way to represent this difference?"
   ]
  },
  {
   "cell_type": "markdown",
   "metadata": {},
   "source": [
    "# Mean Squared Error\n",
    "\n"
   ]
  },
  {
   "cell_type": "markdown",
   "metadata": {},
   "source": [
    "We define our way to represent the error in our hypothesis as follows:\n",
    "\n",
    "$$J(\\theta) = \\frac{1}{2m}\\sum_{i = 0}^{m}(y_i - f_\\theta(x_i))^2$$\n",
    "\n",
    "Specifically,\n",
    "\n",
    "$$J(\\theta) = \\frac{1}{2m}\\sum_{i = 0}^{m}(y_i - \\theta_0 - \\theta_1x_i)^2$$\n",
    "\n",
    "where $\n",
    "  \\theta=\n",
    "  \\left[ {\\begin{array}{c}\n",
    "   \\theta_0\\\\\n",
    "   \\theta_1\\\\\n",
    "  \\end{array} } \\right]\n",
    "$\n",
    "\n",
    "What we want to do is __minimize__ this error function. But let's answer some questions first!\n",
    "\n",
    "- Why is $J(.)$ a function of $\\theta$ and not $x$?\n",
    "- How would you go about minimizing it? (__Hint__: Go back to high-school math)\n",
    "- Why did we take $2m$ in the denominator instead of $m$ if we needed mean? (__Hint__: What would minimization lead to?)"
   ]
  },
  {
   "cell_type": "markdown",
   "metadata": {},
   "source": [
    "# Gradient Descent"
   ]
  },
  {
   "cell_type": "markdown",
   "metadata": {},
   "source": [
    "This is what forms the bread and butter of all of ML/DL world.\n",
    "\n",
    "Quite simply put, gradient descent is:\n",
    "\n",
    "```\n",
    "repeat until convergence {\n",
    "\n",
    "    calculate_cost_function()\n",
    "\n",
    "    for all parameters {\n",
    "\n",
    "        update parameter towards optima\n",
    "\n",
    "    }\n",
    "}\n",
    "```\n",
    "\n",
    "\n",
    "## Specifics \n",
    "\n",
    "We know what we want to minimize w.r.t., so let's get going!\n",
    "\n",
    "Derivative w.r.t $\\theta_0$:\n",
    "\n",
    "$$\\frac{\\partial J(\\theta)}{\\partial \\theta_0} = -\\frac{1}{m} \\sum_{i=0}^{m}(y_i - \\theta_0 - \\theta_1x_i) $$\n",
    "\n",
    "#### Try the derivative w.r.t. $\\theta_1$!\n",
    "\n",
    "\n",
    "Now, what we want to try and do is move in the direction of the gradient. (Why?)\n",
    "\n",
    "How do we update the parameters?\n",
    "\n",
    "- $\\theta_0 = \\theta_0 + \\alpha * \\frac{\\partial J(\\theta)}{\\partial \\theta_0}$\n",
    "- $\\theta_1 = \\theta_1 + \\alpha * \\frac{\\partial J(\\theta)}{\\partial \\theta_1}$\n",
    "\n",
    "What is $\\alpha$? How do you get its value?\n",
    "\n",
    "\n"
   ]
  },
  {
   "cell_type": "code",
   "execution_count": 5,
   "metadata": {},
   "outputs": [
    {
     "ename": "SyntaxError",
     "evalue": "invalid syntax (<ipython-input-5-3d5aad054e0c>, line 1)",
     "output_type": "error",
     "traceback": [
      "\u001b[0;36m  File \u001b[0;32m\"<ipython-input-5-3d5aad054e0c>\"\u001b[0;36m, line \u001b[0;32m1\u001b[0m\n\u001b[0;31m    Preprocessing the data\u001b[0m\n\u001b[0m                    ^\u001b[0m\n\u001b[0;31mSyntaxError\u001b[0m\u001b[0;31m:\u001b[0m invalid syntax\n"
     ]
    }
   ],
   "source": [
    "Preprocessing the data\n",
    "\n",
    "scaler = StandardScaler()\n",
    "data = np.vstack((students_with_deadline, turnout)).T\n",
    "scaler.fit(data)\n",
    "data = scaler.transform(data)\n",
    "data\n",
    "students_with_deadline = data[:, 0]\n",
    "turnout = data[:, 1]"
   ]
  },
  {
   "cell_type": "code",
   "execution_count": null,
   "metadata": {},
   "outputs": [],
   "source": [
    "# Now towards the implementation!\n",
    "\n",
    "theta = np.random.random(2) # initialised some paramters\n",
    "\n",
    "y_hat = theta[0] + theta[1] * students_with_deadline\n",
    "\n",
    "plt.plot(students_with_deadline, turnout, 'r.', label = 'Training set')\n",
    "plt.plot(students_with_deadline, y_hat, 'b--', label = 'Current hypothesis')\n",
    "plt.legend([\"Target\", \"Current Hypothesis\"])\n",
    "plt.show()"
   ]
  },
  {
   "cell_type": "code",
   "execution_count": null,
   "metadata": {},
   "outputs": [],
   "source": [
    "total_epochs = 5 # Gotta stop sometime :)\n",
    "alpha = 0.5      # Learning rate\n",
    "m = students_with_deadline.shape[0]\n",
    "X = students_with_deadline.copy()\n",
    "y = turnout.copy()\n",
    "for i in range(total_epochs):\n",
    "    \n",
    "    #calculate new theta\n",
    "    theta[0] = theta[0] - alpha * (-1 * (1 / m) * np.sum(y - theta[0] - theta[1] * X))\n",
    "    theta[1] = theta[1] - alpha * (-1 * (1 / m) * np.dot(X, y - theta[0] - theta[1] * X))\n",
    "\n",
    "    #compute new loss\n",
    "    loss = (1 / (2*m)) * np.sum(np.power(y - theta[0] - theta[1] * X, 2))\n",
    "    y_hat = theta[0] + theta[1] * X\n",
    "    print(\"Cost function: \", loss)\n",
    "\n",
    "    #plot\n",
    "    plt.plot(X, turnout, 'r.', label = 'target')\n",
    "    plt.plot(X, y_hat, 'b--', label = 'current hypothesis')\n",
    "    plt.legend()\n",
    "    plt.show()\n",
    "\n",
    "#     sleep(3)"
   ]
  },
  {
   "cell_type": "markdown",
   "metadata": {},
   "source": [
    "# So much code? :0\n",
    "\n",
    "Precisely not! We discussed all this just so that you know what happens under the hood. Now let us see how sci-kit learn's [LinearRegression](https://scikit-learn.org/stable/modules/generated/sklearn.linear_model.LinearRegression.html) model simplifies things for us!"
   ]
  },
  {
   "cell_type": "code",
   "execution_count": null,
   "metadata": {},
   "outputs": [],
   "source": [
    "lr = LinearRegression()\n",
    "lr.fit(X.reshape(-1, 1), y)\n",
    "plt.plot(X, y, 'r.', label = 'target')\n",
    "plt.plot(X, lr.predict(X.reshape(-1, 1)), 'b--', label = 'final hypothesis')\n",
    "plt.legend()\n",
    "plt.show()\n"
   ]
  },
  {
   "cell_type": "markdown",
   "metadata": {},
   "source": [
    "# Resources\n",
    "\n",
    "- http://cs229.stanford.edu/syllabus.html You should be able to handle portion till pset1 :)\n",
    "- If you want to challenge yourself:\n",
    "    - https://www.youtube.com/watch?v=mbyG85GZ0PI&list=PLD63A284B7615313A\n",
    "    \n",
    "## See you at the Kaggle challenge! (More details at the end of session)\n",
    "\n",
    "\n",
    "\n",
    "#### Feel free to ping me at: aditya16217@iiitd.ac.in"
   ]
  },
  {
   "cell_type": "code",
   "execution_count": null,
   "metadata": {},
   "outputs": [],
   "source": []
  }
 ],
 "metadata": {
  "kernelspec": {
   "display_name": "Python 3",
   "language": "python",
   "name": "python3"
  },
  "language_info": {
   "codemirror_mode": {
    "name": "ipython",
    "version": 3
   },
   "file_extension": ".py",
   "mimetype": "text/x-python",
   "name": "python",
   "nbconvert_exporter": "python",
   "pygments_lexer": "ipython3",
   "version": "3.6.5"
  }
 },
 "nbformat": 4,
 "nbformat_minor": 2
}
